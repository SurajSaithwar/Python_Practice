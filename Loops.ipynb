{
  "nbformat": 4,
  "nbformat_minor": 0,
  "metadata": {
    "colab": {
      "private_outputs": true,
      "provenance": [],
      "authorship_tag": "ABX9TyPLSwhZCy2uMOC12Zv2LNXx",
      "include_colab_link": true
    },
    "kernelspec": {
      "name": "python3",
      "display_name": "Python 3"
    },
    "language_info": {
      "name": "python"
    }
  },
  "cells": [
    {
      "cell_type": "markdown",
      "metadata": {
        "id": "view-in-github",
        "colab_type": "text"
      },
      "source": [
        "<a href=\"https://colab.research.google.com/github/SurajSaithwar/Python_Practice/blob/main/Loops.ipynb\" target=\"_parent\"><img src=\"https://colab.research.google.com/assets/colab-badge.svg\" alt=\"Open In Colab\"/></a>"
      ]
    },
    {
      "cell_type": "markdown",
      "source": [
        "**1.While Loop**"
      ],
      "metadata": {
        "id": "Kj3B_4pXO0DK"
      }
    },
    {
      "cell_type": "code",
      "execution_count": null,
      "metadata": {
        "id": "Zo-bfv2SOl-7"
      },
      "outputs": [],
      "source": [
        "#Print numbers from 1 to 100.\n",
        "\n",
        "num=1\n",
        "while num<=100:\n",
        "  print(num)\n",
        "  num+=1"
      ]
    },
    {
      "cell_type": "code",
      "source": [
        "#Print number from 100 to 1.\n",
        "num=100\n",
        "while num>=1:\n",
        "  print(num)\n",
        "  num-=1"
      ],
      "metadata": {
        "id": "UxQH-iJNO-yf"
      },
      "execution_count": null,
      "outputs": []
    },
    {
      "cell_type": "code",
      "source": [
        "#Print the multiplication table of a number n.\n",
        "n=int(input(\"Enter the number : \"))\n",
        "i=1\n",
        "while i<=10:\n",
        "  print(n,\"x\",i,\"=\",n*i)\n",
        "  i+=1"
      ],
      "metadata": {
        "id": "2Ax3GESJPBpn"
      },
      "execution_count": null,
      "outputs": []
    },
    {
      "cell_type": "code",
      "source": [
        "#Print the elements of the following list using a loop:\n",
        "lst=[1,4,9,16,25,36,49,64,81,100]\n",
        "i=0\n",
        "while i<=len(lst)-1:\n",
        "  print(lst[i])\n",
        "  i+=1"
      ],
      "metadata": {
        "id": "wzKDlfzzPEL4"
      },
      "execution_count": null,
      "outputs": []
    },
    {
      "cell_type": "code",
      "source": [
        "#Search for a number x in this tuple using loop:\n",
        "num=int(input(\"Enter the number you want to found : \"))\n",
        "tup=(1,4,9,16,25,36,49,64,81,100)\n",
        "i=0\n",
        "while i<=len(tup)-1:\n",
        "  if tup[i]==num:\n",
        "    print(num,\"is found at index\",i)\n",
        "  else:\n",
        "    print(\"Finding...\")\n",
        "  i+=1"
      ],
      "metadata": {
        "id": "fRV-YPwyPHlo"
      },
      "execution_count": null,
      "outputs": []
    },
    {
      "cell_type": "markdown",
      "source": [
        "**Meaning of Using the Break Keyword in loops**\n",
        "\n",
        "* Loop will run until the condition meets and will terminate after that."
      ],
      "metadata": {
        "id": "HeBpe3VAPLHH"
      }
    },
    {
      "cell_type": "code",
      "source": [
        "#Break Keywords\n",
        "i=1\n",
        "while i<=15:\n",
        "  print(i)\n",
        "  if i==8:\n",
        "    break # on;ly prints the number from 1 to 8\n",
        "  i+=1\n",
        "print(\"End of Loop\")"
      ],
      "metadata": {
        "id": "WtRwj377PNXX"
      },
      "execution_count": null,
      "outputs": []
    },
    {
      "cell_type": "code",
      "source": [
        "#Search for a number x in this tuple using loop:\n",
        "num=int(input(\"Enter the number you want to found : \"))\n",
        "tup=(1,4,9,16,25,36,49,64,81,100)\n",
        "i=0\n",
        "while i<=len(tup)-1:\n",
        "  if tup[i]==num:\n",
        "    print(num,\"is found at index\",i)\n",
        "    break\n",
        "  else:\n",
        "    print(\"Finding...\")\n",
        "  i+=1\n",
        "print(\"End of Loop\")"
      ],
      "metadata": {
        "id": "-nNY1ounPQbN"
      },
      "execution_count": null,
      "outputs": []
    },
    {
      "cell_type": "markdown",
      "source": [
        "**Meaning of Using the Continue Keyword in loops**\n",
        "\n",
        "* Loop will terminate only the where condition = True and will continue jumping that."
      ],
      "metadata": {
        "id": "0Z0d5nVyPTYO"
      }
    },
    {
      "cell_type": "code",
      "source": [
        "#Continue Keywords\n",
        "i=1\n",
        "while i<=10:\n",
        "  if i==5:\n",
        "    i+=1\n",
        "    continue # Skip only 5 and loop continues.\n",
        "  print(i)\n",
        "  i+=1"
      ],
      "metadata": {
        "id": "gxUpRgSUVPCn"
      },
      "execution_count": null,
      "outputs": []
    },
    {
      "cell_type": "markdown",
      "source": [
        "**2.For Loop**"
      ],
      "metadata": {
        "id": "w6dfMoSEVbzr"
      }
    },
    {
      "cell_type": "code",
      "source": [
        "str=\"Suraj\"\n",
        "for i in str:\n",
        "  if i==\"r\":\n",
        "    break\n",
        "  print(i)\n"
      ],
      "metadata": {
        "id": "yIxeuziUVanW"
      },
      "execution_count": null,
      "outputs": []
    },
    {
      "cell_type": "code",
      "source": [
        "#Print the elements of the following list using For loop:\n",
        "lst=[1,4,9,16,25,36,49,64,81,100]\n",
        "for i in lst:\n",
        "  print(i)"
      ],
      "metadata": {
        "id": "zH5Z4Q9AVoB4"
      },
      "execution_count": null,
      "outputs": []
    },
    {
      "cell_type": "code",
      "source": [
        "#Search for a number x in this tuple using loop:\n",
        "#num=int(input(\"Enter the number you want to found : \"))\n",
        "tup=(1,4,9,16,25,36,49,64,81,100,49)\n",
        "x=49\n",
        "idx = 0\n",
        "for i in tup:\n",
        "  if i==x:\n",
        "    print(\"Number found at indx\", idx)\n",
        "  idx += 1\n"
      ],
      "metadata": {
        "id": "VEE3dLzsVrUa"
      },
      "execution_count": null,
      "outputs": []
    },
    {
      "cell_type": "code",
      "source": [
        "#Print numbers from 1 to 100 using range function\n",
        "for i in range(1,101):\n",
        "  print(i)\n"
      ],
      "metadata": {
        "id": "WzlnYLGtVrJf"
      },
      "execution_count": null,
      "outputs": []
    },
    {
      "cell_type": "code",
      "source": [
        "#Print numbers from 100 to 1 using range function\n",
        "for i in range(100,0,-1):\n",
        "  print(i)\n"
      ],
      "metadata": {
        "id": "V_I-gxIQVson"
      },
      "execution_count": null,
      "outputs": []
    },
    {
      "cell_type": "code",
      "source": [
        "#Print Multiplication table of a number n using range function.\n",
        "n=int(input(\"Enter the nnmber: \"))\n",
        "for i in range(1,11):\n",
        "  print(n,\"x\",i,\"=\",n*i)"
      ],
      "metadata": {
        "id": "mBnI8tvjV1Fd"
      },
      "execution_count": null,
      "outputs": []
    },
    {
      "cell_type": "markdown",
      "source": [
        "**WAP to find the sum of first n number using while loop**"
      ],
      "metadata": {
        "id": "OZLAwvqbV9Kq"
      }
    },
    {
      "cell_type": "code",
      "source": [
        "sum=0\n",
        "n=int(input(\"Enter the number upto which you want to sum: \"))\n",
        "i=1\n",
        "while i<=n:\n",
        "  sum=sum+i\n",
        "  i+=1\n",
        "print(\"Sum of first\",n,\"number is: \",sum)"
      ],
      "metadata": {
        "id": "039VscgKV91_"
      },
      "execution_count": null,
      "outputs": []
    },
    {
      "cell_type": "markdown",
      "source": [
        "**WAP to find the factorial of first n number using for loop?**"
      ],
      "metadata": {
        "id": "Z8dMTLcfWBBs"
      }
    },
    {
      "cell_type": "code",
      "source": [
        "n=int(input(\"Enter the number: \"))\n",
        "fact=1\n",
        "for i in range (1,n+1):\n",
        "    fact=fact*i\n",
        "print(\"Factorial of number \",n,\"is\",fact)"
      ],
      "metadata": {
        "id": "mryMesmfWDFh"
      },
      "execution_count": null,
      "outputs": []
    }
  ]
}