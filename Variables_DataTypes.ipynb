{
  "nbformat": 4,
  "nbformat_minor": 0,
  "metadata": {
    "colab": {
      "private_outputs": true,
      "provenance": [],
      "name": "Variables_DataTypes.ipynb",
      "authorship_tag": "ABX9TyNjq5H2T5x/+PTa9LbzLp/B",
      "include_colab_link": true
    },
    "kernelspec": {
      "name": "python3",
      "display_name": "Python 3"
    },
    "language_info": {
      "name": "python"
    }
  },
  "cells": [
    {
      "cell_type": "markdown",
      "metadata": {
        "id": "view-in-github",
        "colab_type": "text"
      },
      "source": [
        "<a href=\"https://colab.research.google.com/github/SurajSaithwar/Python_Practice/blob/main/Variables_DataTypes.ipynb\" target=\"_parent\"><img src=\"https://colab.research.google.com/assets/colab-badge.svg\" alt=\"Open In Colab\"/></a>"
      ]
    },
    {
      "cell_type": "markdown",
      "source": [
        "**Variables and Datatypes**"
      ],
      "metadata": {
        "id": "eHhy38V3ZFlx"
      }
    },
    {
      "cell_type": "code",
      "source": [
        "#a,b,c,d are variables\n",
        "a=20\n",
        "b=20.6\n",
        "c=\"Hello Suraj\"\n",
        "d=True\n",
        "print(type(a))\n",
        "print(type(b))\n",
        "print(type(c))\n",
        "print(type(d))"
      ],
      "metadata": {
        "id": "uPlgVyfHYoEF"
      },
      "execution_count": null,
      "outputs": []
    },
    {
      "cell_type": "markdown",
      "source": [
        "**Typecasting**"
      ],
      "metadata": {
        "id": "Wg4NtXWdZUPo"
      }
    },
    {
      "cell_type": "code",
      "source": [
        "a=20\n",
        "b=float(a)\n",
        "print(b)\n",
        "print(type(b))"
      ],
      "metadata": {
        "id": "DuvnGKnYYz6u"
      },
      "execution_count": null,
      "outputs": []
    },
    {
      "cell_type": "code",
      "source": [
        "a=20.1\n",
        "b=int(a)\n",
        "print(b)\n",
        "print(type(b))"
      ],
      "metadata": {
        "id": "TJwnB6ooZdY3"
      },
      "execution_count": null,
      "outputs": []
    },
    {
      "cell_type": "markdown",
      "source": [
        "**Write a program to input two numbers and Print their sum ?**"
      ],
      "metadata": {
        "id": "UM9wtvtUF0ga"
      }
    },
    {
      "cell_type": "code",
      "source": [
        "a=int(input(\"Enter first number : \"))\n",
        "b=int(input(\"Enter Second number : \"))\n",
        "sum=a+b\n",
        "print(\"Sum of two numbers is: 0\",sum)\n"
      ],
      "metadata": {
        "id": "KId9IIVNFzNw"
      },
      "execution_count": null,
      "outputs": []
    },
    {
      "cell_type": "markdown",
      "source": [
        "**WAP to input side of Square and print its area ?**"
      ],
      "metadata": {
        "id": "kwrl97X5GseX"
      }
    },
    {
      "cell_type": "code",
      "source": [
        "side=float(input(\"Enter side of square : \"))\n",
        "area=side*side\n",
        "print(\"Area of square is : \",area)"
      ],
      "metadata": {
        "id": "d2N520WUG-xF"
      },
      "execution_count": null,
      "outputs": []
    },
    {
      "cell_type": "markdown",
      "source": [
        "**WAP to input two floating point numbers and print their average ?**"
      ],
      "metadata": {
        "id": "1Rk4h7kZHjS9"
      }
    },
    {
      "cell_type": "code",
      "source": [
        "a=float(input(\"Enter first number : \"))\n",
        "b=float(input(\"Enter second number : \"))\n",
        "avg=(a+b)/2\n",
        "print(\"Average of two numbers is : \",avg)"
      ],
      "metadata": {
        "id": "oMsIdmTQHkMs"
      },
      "execution_count": null,
      "outputs": []
    }
  ]
}