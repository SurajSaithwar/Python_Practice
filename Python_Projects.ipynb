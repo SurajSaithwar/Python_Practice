{
  "cells": [
    {
      "cell_type": "markdown",
      "metadata": {
        "colab_type": "text",
        "id": "view-in-github"
      },
      "source": [
        "<a href=\"https://colab.research.google.com/github/SurajSaithwar/Python_Practice/blob/main/Python_Projects.ipynb\" target=\"_parent\"><img src=\"https://colab.research.google.com/assets/colab-badge.svg\" alt=\"Open In Colab\"/></a>"
      ]
    },
    {
      "cell_type": "markdown",
      "metadata": {
        "id": "GnFrvRQXvOrc"
      },
      "source": []
    },
    {
      "cell_type": "markdown",
      "metadata": {
        "id": "UM9wtvtUF0ga"
      },
      "source": [
        "**Write a program to input two numbers and Print their sum ?**"
      ]
    },
    {
      "cell_type": "code",
      "execution_count": null,
      "metadata": {
        "id": "KId9IIVNFzNw"
      },
      "outputs": [],
      "source": [
        "a=int(input(\"Enter first number : \"))\n",
        "b=int(input(\"Enter Second number : \"))\n",
        "sum=a+b\n",
        "print(\"Sum of two numbers is: 0\",sum)\n"
      ]
    },
    {
      "cell_type": "markdown",
      "metadata": {
        "id": "kwrl97X5GseX"
      },
      "source": [
        "**WAP to input side of Square and print its area ?**"
      ]
    },
    {
      "cell_type": "code",
      "execution_count": null,
      "metadata": {
        "id": "d2N520WUG-xF"
      },
      "outputs": [],
      "source": [
        "side=float(input(\"Enter side of square : \"))\n",
        "area=side*side\n",
        "print(\"Area of square is : \",area)"
      ]
    },
    {
      "cell_type": "markdown",
      "metadata": {
        "id": "1Rk4h7kZHjS9"
      },
      "source": [
        "**WAP to input two floating point numbers and print their average ?**"
      ]
    },
    {
      "cell_type": "code",
      "execution_count": null,
      "metadata": {
        "id": "oMsIdmTQHkMs"
      },
      "outputs": [],
      "source": [
        "a=float(input(\"Enter first number : \"))\n",
        "b=float(input(\"Enter second number : \"))\n",
        "avg=(a+b)/2\n",
        "print(\"Average of two numbers is : \",avg)"
      ]
    },
    {
      "cell_type": "markdown",
      "metadata": {
        "id": "SXhDDs-qH6xA"
      },
      "source": [
        "**WAP to input 2 int numbers ,a and b and print True if a is greater than or equal to b . If not print False**"
      ]
    },
    {
      "cell_type": "code",
      "execution_count": null,
      "metadata": {
        "id": "75mVF4itIPEF"
      },
      "outputs": [],
      "source": [
        "a=int(input(\"Enter first number : \"))\n",
        "b=int(input(\"Enter second number : \"))\n",
        "if a>=b:\n",
        "  print(\"True\")\n",
        "else:\n",
        "  print(\"False\")"
      ]
    },
    {
      "cell_type": "markdown",
      "metadata": {
        "id": "l15ZvCVQJWKr"
      },
      "source": [
        "**WAP to check if a number entered by the user is odd or even?**"
      ]
    },
    {
      "cell_type": "code",
      "execution_count": null,
      "metadata": {
        "collapsed": true,
        "id": "o8BDkkttJCJ9"
      },
      "outputs": [],
      "source": [
        "num=int(input(\"enter the number: \"))\n",
        "if num%2==0:\n",
        "  print( num, \"is even number\")\n",
        "else:\n",
        "  print(num,\"is odd number\")"
      ]
    },
    {
      "cell_type": "markdown",
      "metadata": {
        "id": "_AOX_rjjKZ5C"
      },
      "source": [
        "**WAP to find the greatest of 3 number entered by the user?**"
      ]
    },
    {
      "cell_type": "code",
      "execution_count": null,
      "metadata": {
        "id": "NLelTk9wKuRE"
      },
      "outputs": [],
      "source": [
        "num1=int(input(\"Enter first number : \"))\n",
        "num2=int(input(\"Enter second number : \"))\n",
        "num3=int(input(\"Enter third number : \"))\n",
        "if (num1>num2 and num1>num3):\n",
        "  print(num1,\"is greater\")\n",
        "elif (num2>num1 and num2>num3):\n",
        "  print(num2,\"is greater\")\n",
        "else:\n",
        "  print(num3,\"is greater\")"
      ]
    },
    {
      "cell_type": "markdown",
      "metadata": {
        "id": "kr21HOo6K_oe"
      },
      "source": [
        "**WAP to check if the number is multiple of 7 or not?**"
      ]
    },
    {
      "cell_type": "code",
      "execution_count": null,
      "metadata": {
        "id": "Bc6jYbkwLHCM"
      },
      "outputs": [],
      "source": [
        "num=int(input(\"Enter the number : \"))\n",
        "if num%7==0:\n",
        "  print(num,\"is multiple of 7\")\n",
        "else:\n",
        "  print(num,\"is not multiple of 7\")"
      ]
    },
    {
      "cell_type": "markdown",
      "metadata": {
        "id": "RGtr-an8Lyf6"
      },
      "source": [
        "**WAP to ask a user to enter name of their 3 favourite movies and store them in a list**"
      ]
    },
    {
      "cell_type": "code",
      "execution_count": null,
      "metadata": {
        "id": "36Skny0NMAFn"
      },
      "outputs": [],
      "source": [
        "a=input(\"enter first movie : \")\n",
        "b=input(\"enter second movie : \")\n",
        "c=input(\"enter third movie : \")\n",
        "list=[a,b,c]\n",
        "print(list)"
      ]
    },
    {
      "cell_type": "markdown",
      "metadata": {
        "id": "DXathX2BMbox"
      },
      "source": [
        "**WAP to check if list contains  palindrome of elements**"
      ]
    },
    {
      "cell_type": "code",
      "execution_count": null,
      "metadata": {
        "id": "lKxbGZuhMSmg"
      },
      "outputs": [],
      "source": [
        "a=[1,2,3]\n",
        "b=a.copy()\n",
        "b.reverse()\n",
        "if a==b:\n",
        "  print(\"palindrome\")\n",
        "else:\n",
        "  print(\"not palindrome\")"
      ]
    },
    {
      "cell_type": "markdown",
      "metadata": {
        "id": "EHxGfJgCNokh"
      },
      "source": [
        "**WAP to count the number of students with the \"A\" grade in the following tuple?**"
      ]
    },
    {
      "cell_type": "code",
      "execution_count": null,
      "metadata": {
        "collapsed": true,
        "id": "YbDzsclPNUcZ"
      },
      "outputs": [],
      "source": [
        "tup=(\"C\",\"D\",\"A\",\"A\",\"B\",\"B\",\"A\",\"D\",\"A\")\n",
        "print(tup)\n",
        "tup.count(\"A\")"
      ]
    },
    {
      "cell_type": "markdown",
      "metadata": {
        "id": "GZ7hb52uO1kA"
      },
      "source": [
        "**Store the Above values in a list and sort them from \"A\" to \"D\"?**"
      ]
    },
    {
      "cell_type": "code",
      "execution_count": null,
      "metadata": {
        "collapsed": true,
        "id": "PlLkPGq_O1M9"
      },
      "outputs": [],
      "source": [
        "lst=[\"C\",\"D\",\"A\",\"A\",\"B\",\"B\",\"A\",\"D\",\"A\"]\n",
        "lst.sort()\n",
        "print(lst)"
      ]
    },
    {
      "cell_type": "markdown",
      "metadata": {
        "id": "RyjAh2qDP4Vv"
      },
      "source": [
        "**Store following word meanings in a python Dictionary:**\n",
        "\n"
      ]
    },
    {
      "cell_type": "markdown",
      "metadata": {
        "id": "Bp24PtpIQOji"
      },
      "source": [
        "**table:\"a piece of furniture\",\"list of facts & figures\"     cat:\"a small animal**"
      ]
    },
    {
      "cell_type": "code",
      "execution_count": null,
      "metadata": {
        "id": "fqVByGXYOlFP"
      },
      "outputs": [],
      "source": [
        "dict={\"table\":[\"a piece of furniture\",\"List of facts and figures\"],\n",
        "      \"cat\":\"a small animal\"}\n",
        "print(dict)"
      ]
    },
    {
      "cell_type": "code",
      "execution_count": null,
      "metadata": {
        "id": "znK991F7RUd4"
      },
      "outputs": [],
      "source": [
        "dict.values()\n"
      ]
    },
    {
      "cell_type": "code",
      "execution_count": null,
      "metadata": {
        "id": "vo4SH5DARYcR"
      },
      "outputs": [],
      "source": [
        "dict.keys()"
      ]
    },
    {
      "cell_type": "code",
      "execution_count": null,
      "metadata": {
        "id": "gICmCSlNRdp3"
      },
      "outputs": [],
      "source": [
        "#You are given a list of subjects for students.Assume one classroom is required for 1 subject. How many classrooms are required for all students\n",
        "\n",
        "lst=[\"Python\",\"Java\",\"C++\",\"Python\",\"Javascripts\",\"Java\",\"Python\",\"Java\",\"C++\",\"C\"]\n",
        "print(lst)"
      ]
    },
    {
      "cell_type": "code",
      "execution_count": null,
      "metadata": {
        "id": "QkDgkM7FSsjc"
      },
      "outputs": [],
      "source": [
        "a=set(lst)\n",
        "print(a)\n",
        "ClassroomCount=len(a)\n",
        "print(ClassroomCount, \"Classrooms are needed by the Students\")"
      ]
    },
    {
      "cell_type": "markdown",
      "metadata": {
        "id": "diPODWfm4lLZ"
      },
      "source": [
        "**WAP to enter marks of 3 students from the user and store them in a dictionary. Start with an empty dictionary and add one by one. Use subject name as Key and Marks as Value.**"
      ]
    },
    {
      "cell_type": "code",
      "execution_count": null,
      "metadata": {
        "collapsed": true,
        "id": "gB2FrgqcTcH0"
      },
      "outputs": [],
      "source": [
        "mark1=int(input(\"Enter the marks : \"))\n",
        "mark2=int(input(\"Enter the marks : \"))\n",
        "mark3=int(input(\"Enter the marks : \"))\n",
        "dict ={}\n",
        "dict[\"Maths\"]=mark1\n",
        "dict[\"Science\"]=mark2\n",
        "dict[\"English\"]=mark3\n",
        "print(dict)"
      ]
    },
    {
      "cell_type": "markdown",
      "metadata": {
        "id": "ZHhTW7vM6SrU"
      },
      "source": [
        "***Or***"
      ]
    },
    {
      "cell_type": "code",
      "execution_count": null,
      "metadata": {
        "id": "WXqROLha6VRS"
      },
      "outputs": [],
      "source": [
        "mark1=int(input(\"Enter the marks of Maths : \"))\n",
        "mark2=int(input(\"Enter the marks of Physics : \"))\n",
        "mark3=int(input(\"Enter the marks of Chemistry: \"))\n",
        "dict ={}\n",
        "dict.update({\"Maths\":mark1})\n",
        "dict.update({\"Physics\":mark2})\n",
        "dict.update({\"Chemistry\":mark3})\n",
        "print(dict)"
      ]
    },
    {
      "cell_type": "markdown",
      "metadata": {
        "id": "dAjK00E_6nD4"
      },
      "source": [
        "**Figure out a way to store 9 and 9.0 as seperate values in the set.**"
      ]
    },
    {
      "cell_type": "code",
      "execution_count": null,
      "metadata": {
        "collapsed": true,
        "id": "fNrd1FQV6xBA"
      },
      "outputs": [],
      "source": [
        "num={(\"int\",9),(\"float\",9.0)}\n",
        "print(num)\n",
        "type(num)"
      ]
    },
    {
      "cell_type": "markdown",
      "metadata": {
        "id": "YpRW8o7I8Xku"
      },
      "source": [
        "**OR**"
      ]
    },
    {
      "cell_type": "code",
      "execution_count": null,
      "metadata": {
        "collapsed": true,
        "id": "Y7-vZ_0Q6347"
      },
      "outputs": [],
      "source": [
        "num={9,\"9.0\"}\n",
        "print(num)\n",
        "type(num)"
      ]
    },
    {
      "cell_type": "markdown",
      "metadata": {
        "id": "Rhw0IT1a8e9m"
      },
      "source": [
        "**Practice Questions for Loops**"
      ]
    },
    {
      "cell_type": "markdown",
      "metadata": {
        "id": "5_SoBHb2Anva"
      },
      "source": [
        "**1.While Loop**"
      ]
    },
    {
      "cell_type": "code",
      "execution_count": null,
      "metadata": {
        "collapsed": true,
        "id": "ud9q_JXxAt35"
      },
      "outputs": [],
      "source": [
        "#Print numbers from 1 to 100.\n",
        "\n",
        "num=1\n",
        "while num<=100:\n",
        "  print(num)\n",
        "  num+=1"
      ]
    },
    {
      "cell_type": "code",
      "execution_count": null,
      "metadata": {
        "collapsed": true,
        "id": "h0zN3b4MBAKF"
      },
      "outputs": [],
      "source": [
        "#Print number from 100 to 1.\n",
        "num=100\n",
        "while num>=1:\n",
        "  print(num)\n",
        "  num-=1"
      ]
    },
    {
      "cell_type": "code",
      "execution_count": null,
      "metadata": {
        "collapsed": true,
        "id": "o2nbJ8OaB07B"
      },
      "outputs": [],
      "source": [
        "#Print the multiplication table of a number n.\n",
        "n=int(input(\"Enter the number : \"))\n",
        "i=1\n",
        "while i<=10:\n",
        "  print(n,\"x\",i,\"=\",n*i)\n",
        "  i+=1"
      ]
    },
    {
      "cell_type": "code",
      "execution_count": null,
      "metadata": {
        "collapsed": true,
        "id": "cvkwC1A_CWxv"
      },
      "outputs": [],
      "source": [
        "#Print the elements of the following list using a loop:\n",
        "lst=[1,4,9,16,25,36,49,64,81,100]\n",
        "i=0\n",
        "while i<=len(lst)-1:\n",
        "  print(lst[i])\n",
        "  i+=1"
      ]
    },
    {
      "cell_type": "code",
      "execution_count": null,
      "metadata": {
        "collapsed": true,
        "id": "5N176B0EC_0y"
      },
      "outputs": [],
      "source": [
        "#Search for a number x in this tuple using loop:\n",
        "num=int(input(\"Enter the number you want to found : \"))\n",
        "tup=(1,4,9,16,25,36,49,64,81,100)\n",
        "i=0\n",
        "while i<=len(tup)-1:\n",
        "  if tup[i]==num:\n",
        "    print(num,\"is found at index\",i)\n",
        "  else:\n",
        "    print(\"Finding...\")\n",
        "  i+=1"
      ]
    },
    {
      "cell_type": "markdown",
      "metadata": {
        "id": "k8VXoSq3E0dE"
      },
      "source": [
        "**Meaning of Using the Break Keyword in loops**\n",
        "\n",
        "* Loop will run until the condition meets and will terminate after that.\n",
        "\n",
        "\n"
      ]
    },
    {
      "cell_type": "code",
      "execution_count": null,
      "metadata": {
        "collapsed": true,
        "id": "AHCA4yEFFWO1"
      },
      "outputs": [],
      "source": [
        "#Break Keywords\n",
        "i=1\n",
        "while i<=15:\n",
        "  print(i)\n",
        "  if i==8:\n",
        "    break # on;ly prints the number from 1 to 8\n",
        "  i+=1\n",
        "print(\"End of Loop\")"
      ]
    },
    {
      "cell_type": "code",
      "execution_count": null,
      "metadata": {
        "collapsed": true,
        "id": "Jc8Haoq1Fsxp"
      },
      "outputs": [],
      "source": [
        "#Search for a number x in this tuple using loop:\n",
        "num=int(input(\"Enter the number you want to found : \"))\n",
        "tup=(1,4,9,16,25,36,49,64,81,100)\n",
        "i=0\n",
        "while i<=len(tup)-1:\n",
        "  if tup[i]==num:\n",
        "    print(num,\"is found at index\",i)\n",
        "    break\n",
        "  else:\n",
        "    print(\"Finding...\")\n",
        "  i+=1\n",
        "print(\"End of Loop\")"
      ]
    },
    {
      "cell_type": "markdown",
      "metadata": {
        "id": "jsnqcMd0GMa6"
      },
      "source": [
        "**Meaning of Using the Continue Keyword in loops**\n",
        "\n",
        "* Loop will terminate only the where condition = True and will continue jumping that."
      ]
    },
    {
      "cell_type": "code",
      "execution_count": null,
      "metadata": {
        "collapsed": true,
        "id": "svpWlpyKF-ae"
      },
      "outputs": [],
      "source": [
        "#Continue Keywords\n",
        "i=1\n",
        "while i<=10:\n",
        "  if i==5:\n",
        "    i+=1\n",
        "    continue # Skip only 5 and loop continues.\n",
        "  print(i)\n",
        "  i+=1"
      ]
    },
    {
      "cell_type": "markdown",
      "metadata": {
        "id": "GueRl_cjJe5M"
      },
      "source": [
        "**2.For Loop**"
      ]
    },
    {
      "cell_type": "code",
      "execution_count": null,
      "metadata": {
        "id": "k9oyLBhHGzwW"
      },
      "outputs": [],
      "source": [
        "str=\"Suraj\"\n",
        "for i in str:\n",
        "  if i==\"r\":\n",
        "    break\n",
        "  print(i)\n"
      ]
    },
    {
      "cell_type": "code",
      "execution_count": null,
      "metadata": {
        "id": "rWrub7rvI1e4"
      },
      "outputs": [],
      "source": [
        "#Print the elements of the following list using For loop:\n",
        "lst=[1,4,9,16,25,36,49,64,81,100]\n",
        "for i in lst:\n",
        "  print(i)"
      ]
    },
    {
      "cell_type": "code",
      "execution_count": null,
      "metadata": {
        "id": "yjMj_cXDJqvA"
      },
      "outputs": [],
      "source": [
        "#Search for a number x in this tuple using loop:\n",
        "#num=int(input(\"Enter the number you want to found : \"))\n",
        "tup=(1,4,9,16,25,36,49,64,81,100,49)\n",
        "x=49\n",
        "idx = 0\n",
        "for i in tup:\n",
        "  if i==x:\n",
        "    print(\"Number found at indx\", idx)\n",
        "  idx += 1\n"
      ]
    },
    {
      "cell_type": "code",
      "execution_count": null,
      "metadata": {
        "collapsed": true,
        "id": "Sxp_2c2aJ5oM"
      },
      "outputs": [],
      "source": [
        "#Print numbers from 1 to 100 using range function\n",
        "for i in range(1,101):\n",
        "  print(i)\n"
      ]
    },
    {
      "cell_type": "code",
      "execution_count": null,
      "metadata": {
        "collapsed": true,
        "id": "dPKWxMrPM29i"
      },
      "outputs": [],
      "source": [
        "#Print numbers from 100 to 1 using range function\n",
        "for i in range(100,0,-1):\n",
        "  print(i)\n"
      ]
    },
    {
      "cell_type": "code",
      "execution_count": null,
      "metadata": {
        "collapsed": true,
        "id": "JX9J4TuZNHxW"
      },
      "outputs": [],
      "source": [
        "#Print Multiplication table of a number n using range function.\n",
        "n=int(input(\"Enter the nnmber: \"))\n",
        "for i in range(1,11):\n",
        "  print(n,\"x\",i,\"=\",n*i)"
      ]
    },
    {
      "cell_type": "markdown",
      "metadata": {
        "id": "RpEOrXP9N14R"
      },
      "source": [
        "**WAP to find the sum of first n number using while loop**"
      ]
    },
    {
      "cell_type": "code",
      "execution_count": null,
      "metadata": {
        "id": "gW76mzWQNgPs"
      },
      "outputs": [],
      "source": [
        "sum=0\n",
        "n=int(input(\"Enter the number upto which you want to sum: \"))\n",
        "i=1\n",
        "while i<=n:\n",
        "  sum=sum+i\n",
        "  i+=1\n",
        "print(\"Sum of first\",n,\"number is: \",sum)"
      ]
    },
    {
      "cell_type": "markdown",
      "metadata": {
        "id": "HclDzxzWOmrJ"
      },
      "source": [
        "**WAP to find the factorial of first n number using for loop?**"
      ]
    },
    {
      "cell_type": "code",
      "execution_count": null,
      "metadata": {
        "id": "6Rlh_qfMOfn3"
      },
      "outputs": [],
      "source": [
        "n=int(input(\"Enter the number: \"))\n",
        "fact=1\n",
        "for i in range (1,n+1):\n",
        "    fact=fact*i\n",
        "print(\"Factorial of number \",n,\"is\",fact)"
      ]
    },
    {
      "cell_type": "code",
      "execution_count": null,
      "metadata": {
        "id": "teM4PDpoPUXg"
      },
      "outputs": [],
      "source": []
    }
  ],
  "metadata": {
    "colab": {
      "authorship_tag": "ABX9TyOssld0EHbTsbicIdfuU+yS",
      "include_colab_link": true,
      "private_outputs": true,
      "provenance": [],
      "toc_visible": true
    },
    "kernelspec": {
      "display_name": "Python 3",
      "name": "python3"
    },
    "language_info": {
      "name": "python"
    }
  },
  "nbformat": 4,
  "nbformat_minor": 0
}
