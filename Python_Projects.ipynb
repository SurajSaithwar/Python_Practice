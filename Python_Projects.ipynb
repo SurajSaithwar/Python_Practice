{
  "nbformat": 4,
  "nbformat_minor": 0,
  "metadata": {
    "colab": {
      "private_outputs": true,
      "provenance": [],
      "toc_visible": true,
      "authorship_tag": "ABX9TyOssld0EHbTsbicIdfuU+yS",
      "include_colab_link": true
    },
    "kernelspec": {
      "name": "python3",
      "display_name": "Python 3"
    },
    "language_info": {
      "name": "python"
    }
  },
  "cells": [
    {
      "cell_type": "markdown",
      "metadata": {
        "id": "view-in-github",
        "colab_type": "text"
      },
      "source": [
        "<a href=\"https://colab.research.google.com/github/SurajSaithwar/Python_Practice/blob/main/Python_Projects.ipynb\" target=\"_parent\"><img src=\"https://colab.research.google.com/assets/colab-badge.svg\" alt=\"Open In Colab\"/></a>"
      ]
    },
    {
      "cell_type": "markdown",
      "source": [],
      "metadata": {
        "id": "GnFrvRQXvOrc"
      }
    },
    {
      "cell_type": "markdown",
      "source": [
        "**Write a program to input two numbers and Print their sum ?**"
      ],
      "metadata": {
        "id": "UM9wtvtUF0ga"
      }
    },
    {
      "cell_type": "code",
      "source": [
        "a=int(input(\"Enter first number : \"))\n",
        "b=int(input(\"Enter Second number : \"))\n",
        "sum=a+b\n",
        "print(\"Sum of two numbers is: 0\",sum)\n"
      ],
      "metadata": {
        "id": "KId9IIVNFzNw"
      },
      "execution_count": null,
      "outputs": []
    },
    {
      "cell_type": "markdown",
      "source": [
        "**WAP to input side of Square and print its area ?**"
      ],
      "metadata": {
        "id": "kwrl97X5GseX"
      }
    },
    {
      "cell_type": "code",
      "source": [
        "side=float(input(\"Enter side of square : \"))\n",
        "area=side*side\n",
        "print(\"Area of square is : \",area)"
      ],
      "metadata": {
        "id": "d2N520WUG-xF"
      },
      "execution_count": null,
      "outputs": []
    },
    {
      "cell_type": "markdown",
      "source": [
        "**WAP to input two floating point numbers and print their average ?**"
      ],
      "metadata": {
        "id": "1Rk4h7kZHjS9"
      }
    },
    {
      "cell_type": "code",
      "source": [
        "a=float(input(\"Enter first number : \"))\n",
        "b=float(input(\"Enter second number : \"))\n",
        "avg=(a+b)/2\n",
        "print(\"Average of two numbers is : \",avg)"
      ],
      "metadata": {
        "id": "oMsIdmTQHkMs"
      },
      "execution_count": null,
      "outputs": []
    },
    {
      "cell_type": "markdown",
      "source": [
        "**WAP to input 2 int numbers ,a and b and print True if a is greater than or equal to b . If not print False**"
      ],
      "metadata": {
        "id": "SXhDDs-qH6xA"
      }
    },
    {
      "cell_type": "code",
      "source": [
        "a=int(input(\"Enter first number : \"))\n",
        "b=int(input(\"Enter second number : \"))\n",
        "if a>=b:\n",
        "  print(\"True\")\n",
        "else:\n",
        "  print(\"False\")"
      ],
      "metadata": {
        "id": "75mVF4itIPEF"
      },
      "execution_count": null,
      "outputs": []
    },
    {
      "cell_type": "markdown",
      "source": [
        "**WAP to check if a number entered by the user is odd or even?**"
      ],
      "metadata": {
        "id": "l15ZvCVQJWKr"
      }
    },
    {
      "cell_type": "code",
      "source": [
        "num=int(input(\"enter the number: \"))\n",
        "if num%2==0:\n",
        "  print( num, \"is even number\")\n",
        "else:\n",
        "  print(num,\"is odd number\")"
      ],
      "metadata": {
        "collapsed": true,
        "id": "o8BDkkttJCJ9"
      },
      "execution_count": null,
      "outputs": []
    },
    {
      "cell_type": "markdown",
      "source": [
        "**WAP to find the greatest of 3 number entered by the user?**"
      ],
      "metadata": {
        "id": "_AOX_rjjKZ5C"
      }
    },
    {
      "cell_type": "code",
      "source": [
        "num1=int(input(\"Enter first number : \"))\n",
        "num2=int(input(\"Enter second number : \"))\n",
        "num3=int(input(\"Enter third number : \"))\n",
        "if (num1>num2 and num1>num3):\n",
        "  print(num1,\"is greater\")\n",
        "elif (num2>num1 and num2>num3):\n",
        "  print(num2,\"is greater\")\n",
        "else:\n",
        "  print(num3,\"is greater\")"
      ],
      "metadata": {
        "id": "NLelTk9wKuRE"
      },
      "execution_count": null,
      "outputs": []
    },
    {
      "cell_type": "markdown",
      "source": [
        "**WAP to check if the number is multiple of 7 or not?**"
      ],
      "metadata": {
        "id": "kr21HOo6K_oe"
      }
    },
    {
      "cell_type": "code",
      "source": [
        "num=int(input(\"Enter the number : \"))\n",
        "if num%7==0:\n",
        "  print(num,\"is multiple of 7\")\n",
        "else:\n",
        "  print(num,\"is not multiple of 7\")"
      ],
      "metadata": {
        "id": "Bc6jYbkwLHCM"
      },
      "execution_count": null,
      "outputs": []
    },
    {
      "cell_type": "markdown",
      "source": [
        "**WAP to ask a user to enter name of their 3 favourite movies and store them in a list**"
      ],
      "metadata": {
        "id": "RGtr-an8Lyf6"
      }
    },
    {
      "cell_type": "code",
      "source": [
        "a=input(\"enter first movie : \")\n",
        "b=input(\"enter second movie : \")\n",
        "c=input(\"enter third movie : \")\n",
        "list=[a,b,c]\n",
        "print(list)"
      ],
      "metadata": {
        "id": "36Skny0NMAFn"
      },
      "execution_count": null,
      "outputs": []
    },
    {
      "cell_type": "markdown",
      "source": [
        "**WAP to check if list contains  palindrome of elements**"
      ],
      "metadata": {
        "id": "DXathX2BMbox"
      }
    },
    {
      "cell_type": "code",
      "source": [
        "a=[1,2,3]\n",
        "b=a.copy()\n",
        "b.reverse()\n",
        "if a==b:\n",
        "  print(\"palindrome\")\n",
        "else:\n",
        "  print(\"not palindrome\")"
      ],
      "metadata": {
        "id": "lKxbGZuhMSmg"
      },
      "execution_count": null,
      "outputs": []
    },
    {
      "cell_type": "markdown",
      "source": [
        "**WAP to count the number of students with the \"A\" grade in the following tuple?**"
      ],
      "metadata": {
        "id": "EHxGfJgCNokh"
      }
    },
    {
      "cell_type": "code",
      "source": [
        "tup=(\"C\",\"D\",\"A\",\"A\",\"B\",\"B\",\"A\",\"D\",\"A\")\n",
        "print(tup)\n",
        "tup.count(\"A\")"
      ],
      "metadata": {
        "id": "YbDzsclPNUcZ",
        "collapsed": true
      },
      "execution_count": null,
      "outputs": []
    },
    {
      "cell_type": "markdown",
      "source": [
        "**Store the Above values in a list and sort them from \"A\" to \"D\"?**"
      ],
      "metadata": {
        "id": "GZ7hb52uO1kA"
      }
    },
    {
      "cell_type": "code",
      "source": [
        "lst=[\"C\",\"D\",\"A\",\"A\",\"B\",\"B\",\"A\",\"D\",\"A\"]\n",
        "lst.sort()\n",
        "print(lst)"
      ],
      "metadata": {
        "id": "PlLkPGq_O1M9",
        "collapsed": true
      },
      "execution_count": null,
      "outputs": []
    },
    {
      "cell_type": "markdown",
      "source": [
        "**Store following word meanings in a python Dictionary:**\n",
        "\n"
      ],
      "metadata": {
        "id": "RyjAh2qDP4Vv"
      }
    },
    {
      "cell_type": "markdown",
      "source": [
        "**table:\"a piece of furniture\",\"list of facts & figures\"     cat:\"a small animal**"
      ],
      "metadata": {
        "id": "Bp24PtpIQOji"
      }
    },
    {
      "cell_type": "code",
      "source": [
        "dict={\"table\":[\"a piece of furniture\",\"List of facts and figures\"],\n",
        "      \"cat\":\"a small animal\"}\n",
        "print(dict)"
      ],
      "metadata": {
        "id": "fqVByGXYOlFP"
      },
      "execution_count": null,
      "outputs": []
    },
    {
      "cell_type": "code",
      "source": [
        "dict.values()\n"
      ],
      "metadata": {
        "id": "znK991F7RUd4"
      },
      "execution_count": null,
      "outputs": []
    },
    {
      "cell_type": "code",
      "source": [
        "dict.keys()"
      ],
      "metadata": {
        "id": "vo4SH5DARYcR"
      },
      "execution_count": null,
      "outputs": []
    },
    {
      "cell_type": "code",
      "source": [
        "#You are given a list of subjects for students.Assume one classroom is required for 1 subject. How many classrooms are required for all students\n",
        "\n",
        "lst=[\"Python\",\"Java\",\"C++\",\"Python\",\"Javascripts\",\"Java\",\"Python\",\"Java\",\"C++\",\"C\"]\n",
        "print(lst)"
      ],
      "metadata": {
        "id": "gICmCSlNRdp3"
      },
      "execution_count": null,
      "outputs": []
    },
    {
      "cell_type": "code",
      "source": [
        "a=set(lst)\n",
        "print(a)\n",
        "ClassroomCount=len(a)\n",
        "print(ClassroomCount, \"Classrooms are needed by the Students\")"
      ],
      "metadata": {
        "id": "QkDgkM7FSsjc"
      },
      "execution_count": null,
      "outputs": []
    },
    {
      "cell_type": "markdown",
      "source": [
        "**WAP to enter marks of 3 students from the user and store them in a dictionary. Start with an empty dictionary and add one by one. Use subject name as Key and Marks as Value.**"
      ],
      "metadata": {
        "id": "diPODWfm4lLZ"
      }
    },
    {
      "cell_type": "code",
      "source": [
        "mark1=int(input(\"Enter the marks : \"))\n",
        "mark2=int(input(\"Enter the marks : \"))\n",
        "mark3=int(input(\"Enter the marks : \"))\n",
        "dict ={}\n",
        "dict[\"Maths\"]=mark1\n",
        "dict[\"Science\"]=mark2\n",
        "dict[\"English\"]=mark3\n",
        "print(dict)"
      ],
      "metadata": {
        "id": "gB2FrgqcTcH0",
        "collapsed": true
      },
      "execution_count": null,
      "outputs": []
    },
    {
      "cell_type": "markdown",
      "source": [
        "***Or***"
      ],
      "metadata": {
        "id": "ZHhTW7vM6SrU"
      }
    },
    {
      "cell_type": "code",
      "source": [
        "mark1=int(input(\"Enter the marks of Maths : \"))\n",
        "mark2=int(input(\"Enter the marks of Physics : \"))\n",
        "mark3=int(input(\"Enter the marks of Chemistry: \"))\n",
        "dict ={}\n",
        "dict.update({\"Maths\":mark1})\n",
        "dict.update({\"Physics\":mark2})\n",
        "dict.update({\"Chemistry\":mark3})\n",
        "print(dict)"
      ],
      "metadata": {
        "id": "WXqROLha6VRS"
      },
      "execution_count": null,
      "outputs": []
    },
    {
      "cell_type": "markdown",
      "source": [
        "**Figure out a way to store 9 and 9.0 as seperate values in the set.**"
      ],
      "metadata": {
        "id": "dAjK00E_6nD4"
      }
    },
    {
      "cell_type": "code",
      "source": [
        "num={(\"int\",9),(\"float\",9.0)}\n",
        "print(num)\n",
        "type(num)"
      ],
      "metadata": {
        "collapsed": true,
        "id": "fNrd1FQV6xBA"
      },
      "execution_count": null,
      "outputs": []
    },
    {
      "cell_type": "markdown",
      "source": [
        "**OR**"
      ],
      "metadata": {
        "id": "YpRW8o7I8Xku"
      }
    },
    {
      "cell_type": "code",
      "source": [
        "num={9,\"9.0\"}\n",
        "print(num)\n",
        "type(num)"
      ],
      "metadata": {
        "collapsed": true,
        "id": "Y7-vZ_0Q6347"
      },
      "execution_count": null,
      "outputs": []
    },
    {
      "cell_type": "markdown",
      "source": [
        "**Practice Questions for Loops**"
      ],
      "metadata": {
        "id": "Rhw0IT1a8e9m"
      }
    },
    {
      "cell_type": "markdown",
      "source": [
        "**1.While Loop**"
      ],
      "metadata": {
        "id": "5_SoBHb2Anva"
      }
    },
    {
      "cell_type": "code",
      "source": [
        "#Print numbers from 1 to 100.\n",
        "\n",
        "num=1\n",
        "while num<=100:\n",
        "  print(num)\n",
        "  num+=1"
      ],
      "metadata": {
        "collapsed": true,
        "id": "ud9q_JXxAt35"
      },
      "execution_count": null,
      "outputs": []
    },
    {
      "cell_type": "code",
      "source": [
        "#Print number from 100 to 1.\n",
        "num=100\n",
        "while num>=1:\n",
        "  print(num)\n",
        "  num-=1"
      ],
      "metadata": {
        "collapsed": true,
        "id": "h0zN3b4MBAKF"
      },
      "execution_count": null,
      "outputs": []
    },
    {
      "cell_type": "code",
      "source": [
        "#Print the multiplication table of a number n.\n",
        "n=int(input(\"Enter the number : \"))\n",
        "i=1\n",
        "while i<=10:\n",
        "  print(n,\"x\",i,\"=\",n*i)\n",
        "  i+=1"
      ],
      "metadata": {
        "collapsed": true,
        "id": "o2nbJ8OaB07B"
      },
      "execution_count": null,
      "outputs": []
    },
    {
      "cell_type": "code",
      "source": [
        "#Print the elements of the following list using a loop:\n",
        "lst=[1,4,9,16,25,36,49,64,81,100]\n",
        "i=0\n",
        "while i<=len(lst)-1:\n",
        "  print(lst[i])\n",
        "  i+=1"
      ],
      "metadata": {
        "collapsed": true,
        "id": "cvkwC1A_CWxv"
      },
      "execution_count": null,
      "outputs": []
    },
    {
      "cell_type": "code",
      "source": [
        "#Search for a number x in this tuple using loop:\n",
        "num=int(input(\"Enter the number you want to found : \"))\n",
        "tup=(1,4,9,16,25,36,49,64,81,100)\n",
        "i=0\n",
        "while i<=len(tup)-1:\n",
        "  if tup[i]==num:\n",
        "    print(num,\"is found at index\",i)\n",
        "  else:\n",
        "    print(\"Finding...\")\n",
        "  i+=1"
      ],
      "metadata": {
        "collapsed": true,
        "id": "5N176B0EC_0y"
      },
      "execution_count": null,
      "outputs": []
    },
    {
      "cell_type": "markdown",
      "source": [
        "**Meaning of Using the Break Keyword in loops**\n",
        "\n",
        "* Loop will run until the condition meets and will terminate after that.\n",
        "\n",
        "\n"
      ],
      "metadata": {
        "id": "k8VXoSq3E0dE"
      }
    },
    {
      "cell_type": "code",
      "source": [
        "#Break Keywords\n",
        "i=1\n",
        "while i<=15:\n",
        "  print(i)\n",
        "  if i==8:\n",
        "    break # on;ly prints the number from 1 to 8\n",
        "  i+=1\n",
        "print(\"End of Loop\")"
      ],
      "metadata": {
        "collapsed": true,
        "id": "AHCA4yEFFWO1"
      },
      "execution_count": null,
      "outputs": []
    },
    {
      "cell_type": "code",
      "source": [
        "#Search for a number x in this tuple using loop:\n",
        "num=int(input(\"Enter the number you want to found : \"))\n",
        "tup=(1,4,9,16,25,36,49,64,81,100)\n",
        "i=0\n",
        "while i<=len(tup)-1:\n",
        "  if tup[i]==num:\n",
        "    print(num,\"is found at index\",i)\n",
        "    break\n",
        "  else:\n",
        "    print(\"Finding...\")\n",
        "  i+=1\n",
        "print(\"End of Loop\")"
      ],
      "metadata": {
        "collapsed": true,
        "id": "Jc8Haoq1Fsxp"
      },
      "execution_count": null,
      "outputs": []
    },
    {
      "cell_type": "markdown",
      "source": [
        "**Meaning of Using the Continue Keyword in loops**\n",
        "\n",
        "* Loop will terminate only the where condition = True and will continue jumping that."
      ],
      "metadata": {
        "id": "jsnqcMd0GMa6"
      }
    },
    {
      "cell_type": "code",
      "source": [
        "#Continue Keywords\n",
        "i=1\n",
        "while i<=10:\n",
        "  if i==5:\n",
        "    i+=1\n",
        "    continue # Skip only 5 and loop continues.\n",
        "  print(i)\n",
        "  i+=1"
      ],
      "metadata": {
        "collapsed": true,
        "id": "svpWlpyKF-ae"
      },
      "execution_count": null,
      "outputs": []
    },
    {
      "cell_type": "markdown",
      "source": [
        "** 2.For Loop**"
      ],
      "metadata": {
        "id": "GueRl_cjJe5M"
      }
    },
    {
      "cell_type": "markdown",
      "source": [],
      "metadata": {
        "id": "ROZrA86dHCKl"
      }
    },
    {
      "cell_type": "code",
      "source": [
        "str=\"Suraj\"\n",
        "for i in str:\n",
        "  if i==\"r\":\n",
        "    break\n",
        "  print(i)\n"
      ],
      "metadata": {
        "id": "k9oyLBhHGzwW"
      },
      "execution_count": null,
      "outputs": []
    },
    {
      "cell_type": "code",
      "source": [
        "#Print the elements of the following list using For loop:\n",
        "lst=[1,4,9,16,25,36,49,64,81,100]\n",
        "for i in lst:\n",
        "  print(i)"
      ],
      "metadata": {
        "id": "rWrub7rvI1e4"
      },
      "execution_count": null,
      "outputs": []
    },
    {
      "cell_type": "code",
      "source": [
        "#Search for a number x in this tuple using loop:\n",
        "#num=int(input(\"Enter the number you want to found : \"))\n",
        "tup=(1,4,9,16,25,36,49,64,81,100,49)\n",
        "x=49\n",
        "idx = 0\n",
        "for i in tup:\n",
        "  if i==x:\n",
        "    print(\"Number found at indx\", idx)\n",
        "  idx += 1\n"
      ],
      "metadata": {
        "id": "yjMj_cXDJqvA"
      },
      "execution_count": null,
      "outputs": []
    },
    {
      "cell_type": "code",
      "source": [
        "#Print numbers from 1 to 100 using range function\n",
        "for i in range(1,101):\n",
        "  print(i)\n"
      ],
      "metadata": {
        "collapsed": true,
        "id": "Sxp_2c2aJ5oM"
      },
      "execution_count": null,
      "outputs": []
    },
    {
      "cell_type": "code",
      "source": [
        "#Print numbers from 100 to 1 using range function\n",
        "for i in range(100,0,-1):\n",
        "  print(i)\n"
      ],
      "metadata": {
        "collapsed": true,
        "id": "dPKWxMrPM29i"
      },
      "execution_count": null,
      "outputs": []
    },
    {
      "cell_type": "code",
      "source": [
        "#Print Multiplication table of a number n using range function.\n",
        "n=int(input(\"Enter the nnmber: \"))\n",
        "for i in range(1,11):\n",
        "  print(n,\"x\",i,\"=\",n*i)"
      ],
      "metadata": {
        "collapsed": true,
        "id": "JX9J4TuZNHxW"
      },
      "execution_count": null,
      "outputs": []
    },
    {
      "cell_type": "markdown",
      "source": [
        "**WAP to find the sum of first n number using while loop**"
      ],
      "metadata": {
        "id": "RpEOrXP9N14R"
      }
    },
    {
      "cell_type": "code",
      "source": [
        "sum=0\n",
        "n=int(input(\"Enter the number upto which you want to sum: \"))\n",
        "i=1\n",
        "while i<=n:\n",
        "  sum=sum+i\n",
        "  i+=1\n",
        "print(\"Sum of first\",n,\"number is: \",sum)"
      ],
      "metadata": {
        "id": "gW76mzWQNgPs"
      },
      "execution_count": null,
      "outputs": []
    },
    {
      "cell_type": "markdown",
      "source": [
        "**WAP to find the factorial of first n number using for loop?**"
      ],
      "metadata": {
        "id": "HclDzxzWOmrJ"
      }
    },
    {
      "cell_type": "code",
      "source": [
        "n=int(input(\"Enter the number: \"))\n",
        "fact=1\n",
        "for i in range (1,n+1):\n",
        "    fact=fact*i\n",
        "print(\"Factorial of number \",n,\"is\",fact)"
      ],
      "metadata": {
        "id": "6Rlh_qfMOfn3"
      },
      "execution_count": null,
      "outputs": []
    },
    {
      "cell_type": "code",
      "source": [],
      "metadata": {
        "id": "teM4PDpoPUXg"
      },
      "execution_count": null,
      "outputs": []
    }
  ]
}