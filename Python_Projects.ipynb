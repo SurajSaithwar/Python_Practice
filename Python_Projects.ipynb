{
  "cells": [
    {
      "cell_type": "markdown",
      "metadata": {
        "colab_type": "text",
        "id": "view-in-github"
      },
      "source": [
        "<a href=\"https://colab.research.google.com/github/SurajSaithwar/Python_Practice/blob/main/Python_Projects.ipynb\" target=\"_parent\"><img src=\"https://colab.research.google.com/assets/colab-badge.svg\" alt=\"Open In Colab\"/></a>"
      ]
    },
    {
      "cell_type": "markdown",
      "metadata": {
        "id": "GnFrvRQXvOrc"
      },
      "source": []
    },
    {
      "cell_type": "markdown",
      "metadata": {
        "id": "UM9wtvtUF0ga"
      },
      "source": [
        "**Write a program to input two numbers and Print their sum ?**"
      ]
    },
    {
      "cell_type": "code",
      "execution_count": null,
      "metadata": {
        "id": "KId9IIVNFzNw"
      },
      "outputs": [],
      "source": [
        "a=int(input(\"Enter first number : \"))\n",
        "b=int(input(\"Enter Second number : \"))\n",
        "sum=a+b\n",
        "print(\"Sum of two numbers is: 0\",sum)\n"
      ]
    },
    {
      "cell_type": "markdown",
      "metadata": {
        "id": "kwrl97X5GseX"
      },
      "source": [
        "**WAP to input side of Square and print its area ?**"
      ]
    },
    {
      "cell_type": "code",
      "execution_count": null,
      "metadata": {
        "id": "d2N520WUG-xF"
      },
      "outputs": [],
      "source": [
        "side=float(input(\"Enter side of square : \"))\n",
        "area=side*side\n",
        "print(\"Area of square is : \",area)"
      ]
    },
    {
      "cell_type": "markdown",
      "metadata": {
        "id": "1Rk4h7kZHjS9"
      },
      "source": [
        "**WAP to input two floating point numbers and print their average ?**"
      ]
    },
    {
      "cell_type": "code",
      "execution_count": null,
      "metadata": {
        "id": "oMsIdmTQHkMs"
      },
      "outputs": [],
      "source": [
        "a=float(input(\"Enter first number : \"))\n",
        "b=float(input(\"Enter second number : \"))\n",
        "avg=(a+b)/2\n",
        "print(\"Average of two numbers is : \",avg)"
      ]
    }
