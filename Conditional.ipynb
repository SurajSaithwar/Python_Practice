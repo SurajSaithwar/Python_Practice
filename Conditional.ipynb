{
  "nbformat": 4,
  "nbformat_minor": 0,
  "metadata": {
    "colab": {
      "private_outputs": true,
      "provenance": [],
      "authorship_tag": "ABX9TyPPgqcVtjOrl++aV7C85TVX",
      "include_colab_link": true
    },
    "kernelspec": {
      "name": "python3",
      "display_name": "Python 3"
    },
    "language_info": {
      "name": "python"
    }
  },
  "cells": [
    {
      "cell_type": "markdown",
      "metadata": {
        "id": "view-in-github",
        "colab_type": "text"
      },
      "source": [
        "<a href=\"https://colab.research.google.com/github/SurajSaithwar/Python_Practice/blob/main/Conditional.ipynb\" target=\"_parent\"><img src=\"https://colab.research.google.com/assets/colab-badge.svg\" alt=\"Open In Colab\"/></a>"
      ]
    },
    {
      "cell_type": "markdown",
      "source": [
        "**WAP to input 2 int numbers ,a and b and print True if a is greater than or equal to b . If not print False**"
      ],
      "metadata": {
        "id": "_FYCoUatMU6x"
      }
    },
    {
      "cell_type": "code",
      "execution_count": null,
      "metadata": {
        "id": "gdHKVMHVMNe1"
      },
      "outputs": [],
      "source": [
        "a=int(input(\"Enter first number : \"))\n",
        "b=int(input(\"Enter second number : \"))\n",
        "if a>=b:\n",
        "  print(\"True\")\n",
        "else:\n",
        "  print(\"False\")"
      ]
    },
    {
      "cell_type": "markdown",
      "source": [
        "**WAP to check if a number entered by the user is odd or even?**"
      ],
      "metadata": {
        "id": "5unXUyipMhvz"
      }
    },
    {
      "cell_type": "code",
      "source": [
        "num=int(input(\"enter the number: \"))\n",
        "if num%2==0:\n",
        "  print( num, \"is even number\")\n",
        "else:\n",
        "  print(num,\"is odd number\")"
      ],
      "metadata": {
        "id": "_LswDtRvMWaC"
      },
      "execution_count": null,
      "outputs": []
    },
    {
      "cell_type": "markdown",
      "source": [
        "**WAP to find the greatest of 3 number entered by the user?**"
      ],
      "metadata": {
        "id": "MYhKS53oMw2f"
      }
    },
    {
      "cell_type": "code",
      "source": [
        "num1=int(input(\"Enter first number : \"))\n",
        "num2=int(input(\"Enter second number : \"))\n",
        "num3=int(input(\"Enter third number : \"))\n",
        "if (num1>num2 and num1>num3):\n",
        "  print(num1,\"is greater\")\n",
        "elif (num2>num1 and num2>num3):\n",
        "  print(num2,\"is greater\")\n",
        "else:\n",
        "  print(num3,\"is greater\")"
      ],
      "metadata": {
        "id": "tu49r0V4MmJb"
      },
      "execution_count": null,
      "outputs": []
    },
    {
      "cell_type": "markdown",
      "source": [
        "**WAP to check if the number is multiple of 7 or not?**"
      ],
      "metadata": {
        "id": "LFlRiKuUM8ds"
      }
    },
    {
      "cell_type": "code",
      "source": [
        "num=int(input(\"Enter the number : \"))\n",
        "if num%7==0:\n",
        "  print(num,\"is multiple of 7\")\n",
        "else:\n",
        "  print(num,\"is not multiple of 7\")"
      ],
      "metadata": {
        "id": "nB04-YM7M9EF"
      },
      "execution_count": null,
      "outputs": []
    }
  ]
}