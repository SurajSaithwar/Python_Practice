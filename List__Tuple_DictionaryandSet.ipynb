{
  "nbformat": 4,
  "nbformat_minor": 0,
  "metadata": {
    "colab": {
      "private_outputs": true,
      "provenance": [],
      "authorship_tag": "ABX9TyNg9LZeuHhomJiGKt+YOEyk",
      "include_colab_link": true
    },
    "kernelspec": {
      "name": "python3",
      "display_name": "Python 3"
    },
    "language_info": {
      "name": "python"
    }
  },
  "cells": [
    {
      "cell_type": "markdown",
      "metadata": {
        "id": "view-in-github",
        "colab_type": "text"
      },
      "source": [
        "<a href=\"https://colab.research.google.com/github/SurajSaithwar/Python_Practice/blob/main/List__Tuple_DictionaryandSet.ipynb\" target=\"_parent\"><img src=\"https://colab.research.google.com/assets/colab-badge.svg\" alt=\"Open In Colab\"/></a>"
      ]
    },
    {
      "cell_type": "markdown",
      "source": [
        "**WAP to ask a user to enter name of their 3 favourite movies and store them in a list**"
      ],
      "metadata": {
        "id": "NnwXnlJGXEo2"
      }
    },
    {
      "cell_type": "code",
      "execution_count": null,
      "metadata": {
        "id": "XcO_HaeoW-WO"
      },
      "outputs": [],
      "source": [
        "a=input(\"enter first movie : \")\n",
        "b=input(\"enter second movie : \")\n",
        "c=input(\"enter third movie : \")\n",
        "list=[a,b,c]\n",
        "print(list)"
      ]
    },
    {
      "cell_type": "markdown",
      "source": [
        "**WAP to check if list contains  palindrome of elements**"
      ],
      "metadata": {
        "id": "zzlQNfnbXclc"
      }
    },
    {
      "cell_type": "code",
      "source": [
        "a=[1,2,3]\n",
        "b=a.copy()\n",
        "b.reverse()\n",
        "if a==b:\n",
        "  print(\"palindrome\")\n",
        "else:\n",
        "  print(\"not palindrome\")"
      ],
      "metadata": {
        "id": "rXsMyyr_XgSU"
      },
      "execution_count": null,
      "outputs": []
    },
    {
      "cell_type": "markdown",
      "source": [
        "**WAP to count the number of students with the \"A\" grade in the following tuple?**"
      ],
      "metadata": {
        "id": "buTxFLYIXjdk"
      }
    },
    {
      "cell_type": "code",
      "source": [
        "tup=(\"C\",\"D\",\"A\",\"A\",\"B\",\"B\",\"A\",\"D\",\"A\")\n",
        "print(tup)\n",
        "tup.count(\"A\")"
      ],
      "metadata": {
        "id": "4MDaVaGTXnMC"
      },
      "execution_count": null,
      "outputs": []
    },
    {
      "cell_type": "markdown",
      "source": [
        "**Store the Above values in a list and sort them from \"A\" to \"D\"?**"
      ],
      "metadata": {
        "id": "huiPtnDGXqeJ"
      }
    },
    {
      "cell_type": "code",
      "source": [
        "lst=[\"C\",\"D\",\"A\",\"A\",\"B\",\"B\",\"A\",\"D\",\"A\"]\n",
        "lst.sort()\n",
        "print(lst)"
      ],
      "metadata": {
        "id": "Cvuz7mS4XvUG"
      },
      "execution_count": null,
      "outputs": []
    },
    {
      "cell_type": "markdown",
      "source": [
        "**Store following word meanings in a python Dictionary:**\n",
        "\n"
      ],
      "metadata": {
        "id": "_362KQPhXygB"
      }
    },
    {
      "cell_type": "code",
      "source": [
        "dict={\"table\":[\"a piece of furniture\",\"List of facts and figures\"],\n",
        "      \"cat\":\"a small animal\"}\n",
        "print(dict)"
      ],
      "metadata": {
        "id": "unHBQ--WX210"
      },
      "execution_count": null,
      "outputs": []
    },
    {
      "cell_type": "code",
      "source": [
        "dict.values()"
      ],
      "metadata": {
        "id": "Z2BDkNaqX6yt"
      },
      "execution_count": null,
      "outputs": []
    },
    {
      "cell_type": "code",
      "source": [
        "dict.keys()"
      ],
      "metadata": {
        "id": "dkb1NSCCX9VR"
      },
      "execution_count": null,
      "outputs": []
    },
    {
      "cell_type": "code",
      "source": [
        "#You are given a list of subjects for students.Assume one classroom is required for 1 subject. How many classrooms are required for all students\n",
        "\n",
        "lst=[\"Python\",\"Java\",\"C++\",\"Python\",\"Javascripts\",\"Java\",\"Python\",\"Java\",\"C++\",\"C\"]\n",
        "print(lst)"
      ],
      "metadata": {
        "id": "cD576SHYX_xo"
      },
      "execution_count": null,
      "outputs": []
    },
    {
      "cell_type": "code",
      "source": [
        "a=set(lst)\n",
        "print(a)\n",
        "ClassroomCount=len(a)\n",
        "print(ClassroomCount, \"Classrooms are needed by the Students\")"
      ],
      "metadata": {
        "id": "zPb36u0RYCoh"
      },
      "execution_count": null,
      "outputs": []
    },
    {
      "cell_type": "markdown",
      "source": [
        "**WAP to enter marks of 3 students from the user and store them in a dictionary. Start with an empty dictionary and add one by one. Use subject name as Key and Marks as Value.**"
      ],
      "metadata": {
        "id": "FaM9rEKQYIuW"
      }
    },
    {
      "cell_type": "code",
      "source": [
        "mark1=int(input(\"Enter the marks : \"))\n",
        "mark2=int(input(\"Enter the marks : \"))\n",
        "mark3=int(input(\"Enter the marks : \"))\n",
        "dict ={}\n",
        "dict[\"Maths\"]=mark1\n",
        "dict[\"Science\"]=mark2\n",
        "dict[\"English\"]=mark3\n",
        "print(dict)"
      ],
      "metadata": {
        "id": "HkvUkMdpYGXQ"
      },
      "execution_count": null,
      "outputs": []
    },
    {
      "cell_type": "markdown",
      "source": [
        "**OR**"
      ],
      "metadata": {
        "id": "erl___u0YLu3"
      }
    },
    {
      "cell_type": "code",
      "source": [
        "mark1=int(input(\"Enter the marks of Maths : \"))\n",
        "mark2=int(input(\"Enter the marks of Physics : \"))\n",
        "mark3=int(input(\"Enter the marks of Chemistry: \"))\n",
        "dict ={}\n",
        "dict.update({\"Maths\":mark1})\n",
        "dict.update({\"Physics\":mark2})\n",
        "dict.update({\"Chemistry\":mark3})\n",
        "print(dict)"
      ],
      "metadata": {
        "id": "M8mX9DYCYOKj"
      },
      "execution_count": null,
      "outputs": []
    },
    {
      "cell_type": "markdown",
      "source": [
        "**Figure out a way to store 9 and 9.0 as seperate values in the set.**"
      ],
      "metadata": {
        "id": "_3vWLk6SYUyF"
      }
    },
    {
      "cell_type": "code",
      "source": [
        "num={(\"int\",9),(\"float\",9.0)}\n",
        "print(num)\n",
        "type(num)"
      ],
      "metadata": {
        "id": "Lj5LczQWYVZN"
      },
      "execution_count": null,
      "outputs": []
    },
    {
      "cell_type": "markdown",
      "source": [
        "**OR**"
      ],
      "metadata": {
        "id": "ocP8uUhYYX8r"
      }
    },
    {
      "cell_type": "code",
      "source": [
        "num={9,\"9.0\"}\n",
        "print(num)\n",
        "type(num)"
      ],
      "metadata": {
        "id": "sbXZhdgEYaDq"
      },
      "execution_count": null,
      "outputs": []
    }
  ]
}